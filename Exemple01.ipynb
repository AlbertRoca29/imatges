{
  "cells": [
    {
      "cell_type": "markdown",
      "metadata": {
        "id": "view-in-github",
        "colab_type": "text"
      },
      "source": [
        "<a href=\"https://colab.research.google.com/github/AlbertRoca29/imatges/blob/main/Exemple01.ipynb\" target=\"_parent\"><img src=\"https://colab.research.google.com/assets/colab-badge.svg\" alt=\"Open In Colab\"/></a>"
      ]
    },
    {
      "metadata": {
        "id": "f231752c"
      },
      "id": "f231752c",
      "cell_type": "markdown",
      "source": [
        "# Formulació del problema i anàlisi del sistema\n",
        "## No vull menjar plàtans verds\n",
        "<br>\n",
        "<center><img src=https://raw.githubusercontent.com/AlbertRoca29/imatges/main/banano.png width=50%\">\n",
        "</center>\n",
        "<br>\n",
        "\n"
      ]
    },
    {
      "metadata": {
        "trusted": false,
        "id": "3e81cf04"
      },
      "id": "3e81cf04",
      "cell_type": "code",
      "source": [
        "import numpy as np\n",
        "import scipy\n",
        "import matplotlib.pyplot as plt\n",
        "from IPython.display import Math, display\n",
        "import sympy as sp\n",
        "from sympy.physics.units.systems import SI\n",
        "from sympy.physics.units import meter, second, liter, hour, degree, convert_to\n",
        "from sympy import sin, cos, pi, Abs\n",
        "\n",
        "sp.init_printing()\n",
        "\n",
        "def show(*args):\n",
        "    out = \"\"\n",
        "    for arg in args:\n",
        "        if isinstance(arg, (sp.Expr, sp.Eq)):\n",
        "            arg = sp.latex(arg)\n",
        "        else:\n",
        "            arg = str(arg)\n",
        "        out += arg\n",
        "    display(Math(out))\n",
        "    \n",
        "qq = \"\\quad \""
      ],
      "execution_count": 1,
      "outputs": []
    },
    {
      "metadata": {
        "id": "7bc60942"
      },
      "id": "7bc60942",
      "cell_type": "markdown",
      "source": [
        "## Formulació del problema\n",
        "\n",
        "- Àmbit d'estudi: Tinc plàtans massa verds\n",
        "- Canvi que es busca: Menjar els plàtans en el punt de maduració ideal"
      ]
    },
    {
      "metadata": {
        "id": "7673b53e"
      },
      "id": "7673b53e",
      "cell_type": "markdown",
      "source": [
        "## Anàlisis del sistema\n",
        "- Context\n",
        "- Factors i esdeveniments mesurables\n",
        "- Relacions, comportament i estats"
      ]
    },
    {
      "metadata": {
        "id": "4024465e"
      },
      "id": "4024465e",
      "cell_type": "markdown",
      "source": [
        "## Anàlisis del sistema\n",
        "### Context\n",
        "- Tinc plàtans verds\n",
        "- La temperatura de casa meva és del voltant dels 17-20 graus, i l'aire és més aviat sec que humit. \n",
        "- No barrejo els plàtans amb cap altre aliment."
      ]
    },
    {
      "metadata": {
        "id": "2d410388"
      },
      "id": "2d410388",
      "cell_type": "markdown",
      "source": [
        "## Anàlisis del sistema\n",
        "### Factors i esdeveniments mesurables\n",
        "\n",
        "COLOR\n",
        "\n",
        "L'escala va del 0 (verd) al 8 (groc marronós), a la següent cel·la es mostra l'escala amb colors.\n",
        "\n",
        "- Color del plàtan ara: 1\n",
        "- Color del plàtan ideal: 5\n",
        "\n",
        "\n",
        "DURESA\n",
        "\n",
        "L'escala que va del 0 (molt tou) al 3 (molt dur)\n",
        "- Duresa del plàtan ara: 3\n",
        "- Duresa del plàtan ideal: 2\n",
        "\n",
        "OLOR\n",
        "\n",
        "Diferenciem 2 olors, amb dues intensitats diferents. Així l'escala va del -2 (olor característica del plàtan verd) al 2 (olor característica del plàtan passat) passant pel 0 (cap olor) \n",
        "\n",
        "\n",
        "- Olor del plàtan ara: -2\n",
        "- Olor del plàtan ideal: 0\n",
        "\n",
        "\n",
        "TEMPERATURA (en graus): sempre al voltant dels 17-20 graus. \n",
        "\n",
        "\n",
        "**Comentaris de cara a la presa de dades**\n",
        "\n",
        "\n",
        "Tant la duresa com l'olor seran mesurats utilitzant els sentits. L'exactitud correspon a la que crec que puc donar sense necessitat de cap eina fora del cos.\n",
        "\n",
        "Del color em puc ajudar d'alguna fotografia per contrastar-ho i, per tant, hi ha més exactitud. Tot i que el color del plàtan no sigui uniforme en tot el plàtan, farem sempre referència a la part més verda del plàtan (fora de la branqueta)"
      ]
    },
    {
      "cell_type": "markdown",
      "source": [
        "**Escala color**"
      ],
      "metadata": {
        "id": "Ltco6fine4wy"
      },
      "id": "Ltco6fine4wy"
    },
    {
      "cell_type": "code",
      "source": [
        "# m'ha quedat una mica lleig però m'ha semblat adequat fer-ho d'aquesta manera\n",
        "\n",
        "from IPython.display import HTML\n",
        "color_scale_html = \"\"\"\n",
        "<div style=\"display:flex;align-items:center;justify-content:center;width:800px;height:70px;\">\n",
        "  <div style=\"display:flex;align-items:center;justify-content:center;width:90px;height:100%;background-color:#627f34;font-size:20px;\">0</div>\n",
        "  <div style=\"display:flex;align-items:center;justify-content:center;width:90px;height:100%;background-color:#819536;font-size:20px;\">1</div>\n",
        "  <div style=\"display:flex;align-items:center;justify-content:center;width:90px;height:100%;background-color:#9daf3c;font-size:20px;\">2</div>\n",
        "  <div style=\"display:flex;align-items:center;justify-content:center;width:90px;height:100%;background-color:#bcb43d;font-size:20px;\">3</div>\n",
        "  <div style=\"display:flex;align-items:center;justify-content:center;width:90px;height:100%;background-color:#d7b53c;font-size:20px;\">4</div>\n",
        "  <div style=\"display:flex;align-items:center;justify-content:center;width:90px;height:100%;background-color:#f9bf3c;font-size:20px;\">5</div>\n",
        "  <div style=\"display:flex;align-items:center;justify-content:center;width:90px;height:100%;background-color:#fbb543;font-size:20px;\">6</div>\n",
        "  <div style=\"display:flex;align-items:center;justify-content:center;width:90px;height:100%;background-color:#e7a22a;font-size:20px;\">7</div>\n",
        "  <div style=\"display:flex;align-items:center;justify-content:center;width:90px;height:100%;background-color:#d59627;font-size:20px;\">8</div>\n",
        "</div>\n",
        "\"\"\"\n",
        "HTML(color_scale_html)\n"
      ],
      "metadata": {
        "colab": {
          "base_uri": "https://localhost:8080/",
          "height": 87
        },
        "id": "YdfNkVvje0Bh",
        "outputId": "d8801a87-d2bb-4d28-9052-a669fc4f4061"
      },
      "id": "YdfNkVvje0Bh",
      "execution_count": 2,
      "outputs": [
        {
          "output_type": "execute_result",
          "data": {
            "text/plain": [
              "<IPython.core.display.HTML object>"
            ],
            "text/html": [
              "\n",
              "<div style=\"display:flex;align-items:center;justify-content:center;width:800px;height:70px;\">\n",
              "  <div style=\"display:flex;align-items:center;justify-content:center;width:90px;height:100%;background-color:#627f34;font-size:20px;\">0</div>\n",
              "  <div style=\"display:flex;align-items:center;justify-content:center;width:90px;height:100%;background-color:#819536;font-size:20px;\">1</div>\n",
              "  <div style=\"display:flex;align-items:center;justify-content:center;width:90px;height:100%;background-color:#9daf3c;font-size:20px;\">2</div>\n",
              "  <div style=\"display:flex;align-items:center;justify-content:center;width:90px;height:100%;background-color:#bcb43d;font-size:20px;\">3</div>\n",
              "  <div style=\"display:flex;align-items:center;justify-content:center;width:90px;height:100%;background-color:#d7b53c;font-size:20px;\">4</div>\n",
              "  <div style=\"display:flex;align-items:center;justify-content:center;width:90px;height:100%;background-color:#f9bf3c;font-size:20px;\">5</div>\n",
              "  <div style=\"display:flex;align-items:center;justify-content:center;width:90px;height:100%;background-color:#fbb543;font-size:20px;\">6</div>\n",
              "  <div style=\"display:flex;align-items:center;justify-content:center;width:90px;height:100%;background-color:#e7a22a;font-size:20px;\">7</div>\n",
              "  <div style=\"display:flex;align-items:center;justify-content:center;width:90px;height:100%;background-color:#d59627;font-size:20px;\">8</div>\n",
              "</div>\n"
            ]
          },
          "metadata": {},
          "execution_count": 2
        }
      ]
    },
    {
      "metadata": {
        "id": "7b492eba"
      },
      "id": "7b492eba",
      "cell_type": "markdown",
      "source": [
        "## Anàlisis del sistema\n",
        "### Relacions, comportament i estats\n"
      ]
    },
    {
      "metadata": {
        "id": "97dc48a1"
      },
      "id": "97dc48a1",
      "cell_type": "markdown",
      "source": [
        "## Anàlisis del sistema\n",
        "### Relacions, comportament i estats\n",
        "- Com més verd de color és el plàtan, més verd de maduració està.\n",
        "- L'olor canvia amb el temps (augmentant de -2 a 2 seguint l'escala establerta anteriorment).\n",
        "- La duresa disminueix amb el temps\n"
      ]
    },
    {
      "metadata": {
        "id": "0e25bfbd"
      },
      "id": "0e25bfbd",
      "cell_type": "markdown",
      "source": [
        "següent pas ...\n",
        "\n",
        "\n",
        "\n",
        "## Modelat\n",
        "- Representació matemàtica de variables i relacions\n",
        "- Anàlisi del model\n",
        "- Interpretació del model en el context"
      ]
    },
    {
      "cell_type": "code",
      "source": [],
      "metadata": {
        "id": "1t6eh6NQ6D15"
      },
      "id": "1t6eh6NQ6D15",
      "execution_count": 2,
      "outputs": []
    }
  ],
  "metadata": {
    "celltoolbar": "Slideshow",
    "kernelspec": {
      "name": "python3",
      "display_name": "Python 3 (ipykernel)",
      "language": "python"
    },
    "language_info": {
      "name": "python",
      "version": "3.9.16",
      "mimetype": "text/x-python",
      "codemirror_mode": {
        "name": "ipython",
        "version": 3
      },
      "pygments_lexer": "ipython3",
      "nbconvert_exporter": "python",
      "file_extension": ".py"
    },
    "livereveal": {
      "autolaunch": true
    },
    "rise": {
      "autolaunch": true,
      "scroll": false
    },
    "colab": {
      "provenance": [],
      "include_colab_link": true
    }
  },
  "nbformat": 4,
  "nbformat_minor": 5
}